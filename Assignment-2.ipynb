{
 "cells": [
  {
   "cell_type": "code",
   "execution_count": 9,
   "id": "b74bae49-3339-4d3d-8aaa-e6bada7aae81",
   "metadata": {},
   "outputs": [
    {
     "name": "stdin",
     "output_type": "stream",
     "text": [
      "Enter Your Percentage :  90\n"
     ]
    },
    {
     "name": "stdout",
     "output_type": "stream",
     "text": [
      "Grade B\n"
     ]
    }
   ],
   "source": [
    "percentage = int(input(\"Enter Your Percentage : \"))\n",
    "\n",
    "if percentage>90:\n",
    "    print(\"Grade A\")\n",
    "elif percentage>80 and percentage<=90:\n",
    "    print(\"Grade B\")\n",
    "elif percentage>=60 and percentage<=80:\n",
    "    print(\"Grade C\")\n",
    "else:\n",
    "    print(\"Grade D\")\n",
    "    "
   ]
  },
  {
   "cell_type": "code",
   "execution_count": 13,
   "id": "5cde0f02-539a-41eb-845d-c351a86df43c",
   "metadata": {},
   "outputs": [
    {
     "name": "stdin",
     "output_type": "stream",
     "text": [
      "Enter the cost price of a bike 50000\n"
     ]
    },
    {
     "name": "stdout",
     "output_type": "stream",
     "text": [
      "Road tax  is  2500.0\n"
     ]
    }
   ],
   "source": [
    "price_bike = int(input(\"Enter the cost price of a bike\"))\n",
    "\n",
    "if price_bike>100000:\n",
    "    road_tax = (0.15*price_bike)\n",
    "elif price_bike>50000 and price_bike<=100000:\n",
    "    road_tax = (0.1*price_bike)\n",
    "else:\n",
    "    road_tax = (0.05*price_bike)\n",
    "    \n",
    "print(\"Road tax  is \",road_tax)"
   ]
  },
  {
   "cell_type": "code",
   "execution_count": 15,
   "id": "dc93cd0c-7693-48e0-862e-4eedf4045063",
   "metadata": {},
   "outputs": [
    {
     "name": "stdin",
     "output_type": "stream",
     "text": [
      "Enter Your City delhi\n"
     ]
    }
   ],
   "source": [
    "city_user=input(\"Enter Your City\")\n",
    "\n",
    "if city_user == \"Delhi\" :\n",
    "    print(\" Monuments is Red Fort\")\n",
    "if city_user == \"Agra\" :\n",
    "    print(\"Monuments is Taj Mahal\")\n",
    "if city_user == \"Jaipur\" :\n",
    "    print(\"Monuments is Jai Mahal\")"
   ]
  },
  {
   "cell_type": "code",
   "execution_count": 6,
   "id": "7a1b5567-6c50-46a2-8e6f-f5795dd59891",
   "metadata": {},
   "outputs": [
    {
     "name": "stdin",
     "output_type": "stream",
     "text": [
      "Enter a number : 243\n"
     ]
    },
    {
     "name": "stdout",
     "output_type": "stream",
     "text": [
      "we can divide number by 3  is  3  times\n"
     ]
    }
   ],
   "source": [
    "num = int(input(\"Enter a number :\"))\n",
    "count=0        \n",
    "while num>0 and num>10 and num%3==0:\n",
    "        num=num/3\n",
    "        count=count+1                     \n",
    "print(\"we can divide number by 3  is \",count,\" times\")\n"
   ]
  },
  {
   "cell_type": "code",
   "execution_count": 1,
   "id": "1343f846-532e-4d80-af82-56152b6c384d",
   "metadata": {},
   "outputs": [
    {
     "ename": "SyntaxError",
     "evalue": "invalid syntax (3787608172.py, line 1)",
     "output_type": "error",
     "traceback": [
      "\u001b[0;36m  Cell \u001b[0;32mIn[1], line 1\u001b[0;36m\u001b[0m\n\u001b[0;31m    while loop is used to execute the block of statement repeatedly until given condition is satisfied.\u001b[0m\n\u001b[0m                       ^\u001b[0m\n\u001b[0;31mSyntaxError\u001b[0m\u001b[0;31m:\u001b[0m invalid syntax\n"
     ]
    }
   ],
   "source": [
    "while loop is used to execute the block of statement repeatedly until given condition is satisfied.\n",
    "while loop is a entry loop it means first it checks the condition and if it is true then execute the block of \n",
    "statement that inside the while body.\n",
    "example \n",
    "number=5\n",
    "while number!=0:\n",
    "    print(number)\n",
    "    number=number-1"
   ]
  },
  {
   "cell_type": "code",
   "execution_count": null,
   "id": "c6762ddd-14d3-4e7d-b654-1d4cdf31edec",
   "metadata": {},
   "outputs": [],
   "source": [
    "i=1\n",
    "j=1\n",
    "while i<5:\n",
    "    j=1\n",
    "    while j<6:\n",
    "        if i<=j:\n",
    "            print(\"*\",end=\" \")\n",
    "        else:\n",
    "            print(end=\" \")\n",
    "        j=j+1\n",
    "    print()\n",
    "    i=i+1"
   ]
  },
  {
   "cell_type": "code",
   "execution_count": 1,
   "id": "700b778a-4091-4fd8-97c3-aaf7e23a200b",
   "metadata": {},
   "outputs": [
    {
     "name": "stdout",
     "output_type": "stream",
     "text": [
      "10\n",
      "9\n",
      "8\n",
      "7\n",
      "6\n",
      "5\n",
      "4\n",
      "3\n",
      "2\n",
      "1\n"
     ]
    }
   ],
   "source": [
    "num=10\n",
    "while num!=0:\n",
    "    print(num)\n",
    "    num=num-1\n"
   ]
  },
  {
   "cell_type": "code",
   "execution_count": null,
   "id": "ed77ce6a-59e5-4cc3-9112-b59020bc82af",
   "metadata": {},
   "outputs": [],
   "source": []
  }
 ],
 "metadata": {
  "kernelspec": {
   "display_name": "Python 3 (ipykernel)",
   "language": "python",
   "name": "python3"
  },
  "language_info": {
   "codemirror_mode": {
    "name": "ipython",
    "version": 3
   },
   "file_extension": ".py",
   "mimetype": "text/x-python",
   "name": "python",
   "nbconvert_exporter": "python",
   "pygments_lexer": "ipython3",
   "version": "3.10.8"
  }
 },
 "nbformat": 4,
 "nbformat_minor": 5
}
